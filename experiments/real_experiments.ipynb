{
 "cells": [
  {
   "cell_type": "code",
   "execution_count": 1,
   "metadata": {},
   "outputs": [
    {
     "name": "stderr",
     "output_type": "stream",
     "text": [
      "/home/amra/anaconda3/envs/venv/lib/python3.6/site-packages/nimfa/examples/cbcl_images.py:98: UserWarning: PIL must be installed to run CBCL images example.\n",
      "  warn(\"PIL must be installed to run CBCL images example.\")\n",
      "/home/amra/anaconda3/envs/venv/lib/python3.6/site-packages/nimfa/examples/orl_images.py:110: UserWarning: PIL must be installed to run ORL images example.\n",
      "  warn(\"PIL must be installed to run ORL images example.\")\n"
     ]
    }
   ],
   "source": [
    "import numpy as np\n",
    "import numpy.ma as ma\n",
    "import nmf as nimfa\n",
    "import copy\n",
    "import csv\n",
    "from sklearn import cluster\n",
    "\n",
    "import sys\n",
    "sys.path.append(\"..\")\n",
    "import distance_correlation as dc\n",
    "from statistics import median, mean\n",
    "import utils as ut\n",
    "from FastSTMF import FastSTMF"
   ]
  },
  {
   "cell_type": "code",
   "execution_count": 2,
   "metadata": {},
   "outputs": [],
   "source": [
    "rank = 4  # set rank depending on the dataset\n",
    "missing_value = 0 \n",
    "repeat = 10  # 10\n",
    "sparsity = 0.2  # 20%\n",
    "init_tmf = 'random_vcol'\n",
    "version = \"OV/v5\" \n",
    "time_in_seconds = 300 # 300 for small matrices or 600 for large matrices\n",
    "epsilon = 0.0000001\n",
    "folder = \"results_td_real/\""
   ]
  },
  {
   "cell_type": "code",
   "execution_count": 3,
   "metadata": {},
   "outputs": [
    {
     "name": "stdout",
     "output_type": "stream",
     "text": [
      "(291, 100)\n"
     ]
    }
   ],
   "source": [
    "# select dataset\n",
    "original_data = np.genfromtxt(\"../multi_omic/OV/OV_gene_subset.txt\", delimiter=\"\\t\").T\n",
    "original_data = np.delete(original_data, 0, axis=0)\n",
    "original_data = np.delete(original_data, 0, axis=1)\n",
    "\n",
    "# feature agglomeration columns\n",
    "agglo = cluster.FeatureAgglomeration(n_clusters=100) # 100 for small matrices or 1000 for large matrices\n",
    "agglo.fit(original_data)\n",
    "original_data = agglo.transform(original_data)\n",
    "\n",
    "# polo\n",
    "original_data, _, _ = ut.polo_clustering(original_data) # comment for large matrices\n",
    "\n",
    "original_data += epsilon\n",
    "ut.check_zeros(original_data)\n",
    "data = copy.deepcopy(original_data)\n",
    "data = ut.create_matrix_with_missing_values(data, sparsity, missing_value)  # create matrix with missing values\n",
    "data_missing = copy.deepcopy(data)\n",
    "data = ma.masked_equal(data, missing_value)  # create masked array\n",
    "print(original_data.shape)"
   ]
  },
  {
   "cell_type": "code",
   "execution_count": 4,
   "metadata": {},
   "outputs": [],
   "source": [
    "X_maxplus_orig, X_missing_values, X_maxplus = original_data, data_missing, data\n",
    "s = 1 # one dataset\n",
    "transpose = False\n",
    "approx_error_stmf, pred_error_stmf, corr_stmf = [], [], []\n",
    "\n",
    "# FastSTMF\n",
    "for i in range(rank, rank+1): # rank=3\n",
    "    for j in range(0, repeat): # 10x\n",
    "        model = FastSTMF(rank=i, initialization=init_tmf, threshold=time_in_seconds)\n",
    "        model.fit(X_maxplus)\n",
    "        model.get_statistics(version, s, j, folder, transpose)\n",
    "        approx = model.predict_all()\n",
    "        # metrics\n",
    "        corr, a, b = dc.dcor(original_data, approx)\n",
    "        corr_stmf.append(corr)\n",
    "        approx_error_stmf.append(ut.rmse_approx(original_data, data_missing, approx, missing_value))\n",
    "        pred_error_stmf.append(ut.rmse(original_data, data_missing, approx, missing_value))"
   ]
  },
  {
   "cell_type": "code",
   "execution_count": 5,
   "metadata": {},
   "outputs": [
    {
     "name": "stdout",
     "output_type": "stream",
     "text": [
      "DISTANCE CORRELATION FAST-STMF\n",
      "rank 4, max: 0.8206565015916526\n",
      "rank 4, min: 0.6209793905255387\n",
      "rank 4, median: 0.7179039383280508\n",
      "PREDICTION ERROR FAST-STMF\n",
      "rank 4, max: 1.5419076197319128\n",
      "rank 4, min: 1.3824610286758712\n",
      "rank 4, median: 1.461131831095708\n",
      "APPROXIMATION ERROR FAST-STMF\n",
      "rank 4, max: 1.5100874385786205\n",
      "rank 4, min: 1.3580842293484527\n",
      "rank 4, median: 1.4213119698901244\n"
     ]
    }
   ],
   "source": [
    "print(\"DISTANCE CORRELATION FAST-STMF\")\n",
    "print(\"rank \" + str(i) + \", max: \" + str(max(corr_stmf)))\n",
    "print(\"rank \" + str(i) + \", min: \" + str(min(corr_stmf)))\n",
    "print(\"rank \" + str(i) + \", median: \" + str(median(corr_stmf)))\n",
    "\n",
    "print(\"PREDICTION ERROR FAST-STMF\")\n",
    "print(\"rank \" + str(i) + \", max: \" + str(max(pred_error_stmf)))\n",
    "print(\"rank \" + str(i) + \", min: \" + str(min(pred_error_stmf)))\n",
    "print(\"rank \" + str(i) + \", median: \" + str(median(pred_error_stmf)))\n",
    "\n",
    "print(\"APPROXIMATION ERROR FAST-STMF\")\n",
    "print(\"rank \" + str(i) + \", max: \" + str(max(approx_error_stmf)))\n",
    "print(\"rank \" + str(i) + \", min: \" + str(min(approx_error_stmf)))\n",
    "print(\"rank \" + str(i) + \", median: \" + str(median(approx_error_stmf)))"
   ]
  },
  {
   "cell_type": "code",
   "execution_count": 6,
   "metadata": {},
   "outputs": [],
   "source": [
    "np.savetxt(folder + version + '/OV_corr_fast_stmf.csv', np.array(corr_stmf), delimiter=',')\n",
    "np.savetxt(folder + version + '/OV_approx_fast_stmf.csv', np.array(approx_error_stmf), delimiter=',')\n",
    "np.savetxt(folder + version + '/OV_pred_fast_stmf.csv', np.array(pred_error_stmf), delimiter=',')"
   ]
  }
 ],
 "metadata": {
  "kernelspec": {
   "display_name": "Python 3",
   "language": "python",
   "name": "python3"
  },
  "language_info": {
   "codemirror_mode": {
    "name": "ipython",
    "version": 3
   },
   "file_extension": ".py",
   "mimetype": "text/x-python",
   "name": "python",
   "nbconvert_exporter": "python",
   "pygments_lexer": "ipython3",
   "version": "3.7.4"
  }
 },
 "nbformat": 4,
 "nbformat_minor": 2
}
