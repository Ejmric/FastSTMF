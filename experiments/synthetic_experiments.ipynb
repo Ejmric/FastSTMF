{
 "cells": [
  {
   "cell_type": "code",
   "execution_count": 1,
   "metadata": {},
   "outputs": [
    {
     "name": "stderr",
     "output_type": "stream",
     "text": [
      "/home/amra/anaconda3/envs/venv/lib/python3.6/site-packages/nimfa/examples/cbcl_images.py:98: UserWarning: PIL must be installed to run CBCL images example.\n",
      "  warn(\"PIL must be installed to run CBCL images example.\")\n",
      "/home/amra/anaconda3/envs/venv/lib/python3.6/site-packages/nimfa/examples/orl_images.py:110: UserWarning: PIL must be installed to run ORL images example.\n",
      "  warn(\"PIL must be installed to run ORL images example.\")\n"
     ]
    }
   ],
   "source": [
    "import numpy as np\n",
    "import numpy.ma as ma\n",
    "import nmf as nimfa\n",
    "import copy\n",
    "import csv\n",
    "\n",
    "import sys\n",
    "sys.path.append(\"..\")\n",
    "import utils as ut\n",
    "import STMF_ByMatrix as stmf  # choose method"
   ]
  },
  {
   "cell_type": "code",
   "execution_count": 2,
   "metadata": {},
   "outputs": [],
   "source": [
    "def create_dataset(lamb, A, B):\n",
    "    trop_matrix = ut.max_plus(A, B.T)\n",
    "    stand_matrix = ma.masked_array(np.matmul(A.data, B.T.data), mask=np.zeros((m,n)))\n",
    "    return (lamb * trop_matrix + (1-lamb)*stand_matrix).astype(np.float32)"
   ]
  },
  {
   "cell_type": "code",
   "execution_count": 3,
   "metadata": {},
   "outputs": [],
   "source": [
    "lamb = 0.5 # 0 for linear structure, 1 for tropical structure and 0.5 for mixture\n",
    "transpose = True # True or False, tall or wide matrix\n",
    "# one run of this file for normal data and one run for transposed data\n",
    "number_of_datasets = 50\n",
    "m = 10000  # number of rows, 200 or 10 000\n",
    "n = 300  # number of columns, 200 or 300\n",
    "rank = 3  # rank\n",
    "missing_value = 0  \n",
    "repeat = 10  # 10\n",
    "sparsity = 0.2  # 20%\n",
    "init_tmf = 'random_vcol'\n",
    "folder = \"final_tall_vs_wide/\"\n",
    "version = \"bymatrix\" #\n",
    "time_in_seconds = 600 # 100 or 600 \n",
    "seed_list = np.arange(1, number_of_datasets + 1) * 10 # training datasets\n",
    "#seed_list = (np.arange(1, number_of_datasets + 1) * 10) + 1  # test datasets"
   ]
  },
  {
   "cell_type": "code",
   "execution_count": 4,
   "metadata": {},
   "outputs": [],
   "source": [
    "def generate_data(seed):\n",
    "    np.random.seed(seed)\n",
    "    A = ma.masked_array(np.random.rand(m, rank), mask=np.zeros((m, rank)))  # uniform distribution over [0, 1)\n",
    "    B = ma.masked_array(np.random.rand(n, rank), mask=np.zeros((n, rank)))\n",
    "\n",
    "    X_maxplus_orig = create_dataset(lamb, A, B)\n",
    "    ut.check_zeros(X_maxplus_orig)\n",
    "    X_maxplus = copy.deepcopy(X_maxplus_orig)\n",
    "\n",
    "    X_maxplus = ut.create_matrix_with_missing_values(X_maxplus, sparsity, missing_value)  # create matrix with missing values\n",
    "    X_missing_values = copy.deepcopy(X_maxplus)\n",
    "    X_maxplus = ma.masked_equal(X_maxplus, missing_value)  # create masked array\n",
    "    \n",
    "    if transpose == True:\n",
    "        X_maxplus_orig = X_maxplus_orig.T\n",
    "        X_missing_values = X_missing_values.T\n",
    "        X_maxplus = X_maxplus.T\n",
    "\n",
    "    return X_maxplus_orig, X_missing_values, X_maxplus"
   ]
  },
  {
   "cell_type": "code",
   "execution_count": 5,
   "metadata": {},
   "outputs": [],
   "source": [
    "seed = 42\n",
    "for s in seed_list: # different datasets\n",
    "    X_maxplus_orig, X_missing_values, X_maxplus = generate_data(s)\n",
    "\n",
    "    for i in range(rank, rank+1): # rank=3\n",
    "        for j in range(0, repeat): # 10x\n",
    "            model = stmf.STMF(rank=i, initialization=init_tmf, threshold=time_in_seconds, seed_param=seed+s, j_param=j)\n",
    "            model.fit(X_maxplus)\n",
    "            model.get_statistics(version, s, j, folder, transpose)"
   ]
  }
 ],
 "metadata": {
  "kernelspec": {
   "display_name": "Python 3",
   "language": "python",
   "name": "python3"
  },
  "language_info": {
   "codemirror_mode": {
    "name": "ipython",
    "version": 3
   },
   "file_extension": ".py",
   "mimetype": "text/x-python",
   "name": "python",
   "nbconvert_exporter": "python",
   "pygments_lexer": "ipython3",
   "version": "3.7.4"
  }
 },
 "nbformat": 4,
 "nbformat_minor": 2
}
